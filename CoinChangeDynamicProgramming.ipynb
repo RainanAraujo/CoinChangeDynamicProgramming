{
  "nbformat": 4,
  "nbformat_minor": 0,
  "metadata": {
    "colab": {
      "name": "CoinChangeDynamicProgramming.ipynb",
      "provenance": [],
      "collapsed_sections": [],
      "authorship_tag": "ABX9TyO02PrrYfmBO3RpBgYpLNR4",
      "include_colab_link": true
    },
    "kernelspec": {
      "name": "python3",
      "display_name": "Python 3"
    },
    "language_info": {
      "name": "python"
    }
  },
  "cells": [
    {
      "cell_type": "markdown",
      "metadata": {
        "id": "view-in-github",
        "colab_type": "text"
      },
      "source": [
        "<a href=\"https://colab.research.google.com/github/RainanAraujo/CoinChangeDynamicProgramming/blob/main/CoinChangeDynamicProgramming.ipynb\" target=\"_parent\"><img src=\"https://colab.research.google.com/assets/colab-badge.svg\" alt=\"Open In Colab\"/></a>"
      ]
    },
    {
      "cell_type": "code",
      "execution_count": 67,
      "metadata": {
        "colab": {
          "base_uri": "https://localhost:8080/"
        },
        "id": "usR5emt7FYef",
        "outputId": "b1b948a1-ce6b-42b2-c1fb-107e0840babf"
      },
      "outputs": [
        {
          "output_type": "stream",
          "name": "stdout",
          "text": [
            "2\n"
          ]
        }
      ],
      "source": [
        "change = 28\n",
        "coins = [1, 2, 8, 14, 25]\n",
        "\n",
        "#como se trata de programaçao dinamica, eu necessáriamente preciso armazenar a quantidade minima de moedas necessarias para 1 ate 28 de troco podendo assim fazer consultas na minha memória para o troco de 28\n",
        "def ChangeCoins(coins,change):\n",
        "  #variável que vai armazenar o minimo para que cada troco precisa de moedas\n",
        "  minCoins = [0]*(change+1)\n",
        "  #laço para percorrer todas as 28 posições\n",
        "  for cents in range(change+1):\n",
        "    coinCount = cents\n",
        "    newCoin = 1\n",
        "    #neste laço eu verifico a quatidade de possibilidades mínimas para cada troco de 1 a 28 observando quantas moedas repretidas eu preciso para atingir tal troco dentro do laço\n",
        "    # e com isso eu consigo guardar a quantidade minimas de moedas para o troco de 5,6,6...28 apenas observando as moedas anteriores com menores quantidades sem precisar repetir o calculo toda vez\n",
        "    for j in [c for c in coins if c <= cents]:\n",
        "          if minCoins[cents-j] + 1 < coinCount:\n",
        "              coinCount = minCoins[cents-j]+1\n",
        "              newCoin = j\n",
        "    #dessa forma eu atribuo a quandidade minima adquitida no laço\n",
        "    minCoins[cents] = coinCount\n",
        "  #e emfim retorno o valor minimo que preciso na posição 28\n",
        "  return minCoins[change]\n",
        "\n",
        "\n",
        "print(ChangeCoins(coins,change))\n",
        "\n",
        "\n",
        "\n"
      ]
    }
  ]
}